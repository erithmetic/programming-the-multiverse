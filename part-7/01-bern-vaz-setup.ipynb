{
 "cells": [
  {
   "cell_type": "markdown",
   "metadata": {},
   "source": [
    "Implementation of an oracle encoded with 011"
   ]
  },
  {
   "cell_type": "code",
   "execution_count": 1,
   "metadata": {},
   "outputs": [
    {
     "data": {
      "image/png": "[encoded data removed]",
      "text/plain": [
       "<Figure size 287.496x451.5 with 1 Axes>"
      ]
     },
     "execution_count": 1,
     "metadata": {},
     "output_type": "execute_result"
    }
   ],
   "source": [
    "from qiskit import QuantumCircuit, QuantumRegister, ClassicalRegister\n",
    "from qiskit_aer import Aer\n",
    "from qiskit.visualization import array_to_latex\n",
    "\n",
    "q = QuantumRegister(4, 'q')\n",
    "c = ClassicalRegister(4, 'c')\n",
    "qc = QuantumCircuit(q, c)\n",
    "\n",
    "qc.cx(1,3)\n",
    "qc.cx(2,3)\n",
    "\n",
    "qc.draw(output='mpl')\n"
   ]
  },
  {
   "cell_type": "code",
   "execution_count": 2,
   "metadata": {},
   "outputs": [
    {
     "data": {
      "text/latex": [
       "$$\n",
       "\n",
       "\\begin{bmatrix}\n",
       "1 & 0 & 0 & 0 & \\cdots & 0 & 0 & 0  \\\\\n",
       " 0 & 1 & 0 & 0 & \\cdots & 0 & 0 & 0  \\\\\n",
       " 0 & 0 & 0 & 0 & \\cdots & 0 & 0 & 0  \\\\\n",
       " 0 & 0 & 0 & 0 & \\cdots & 0 & 0 & 0  \\\\\n",
       " \\vdots & \\vdots & \\vdots & \\vdots & \\ddots & \\vdots & \\vdots & \\vdots \\\\\n",
       " 0 & 0 & 0 & 0 & \\cdots & 0 & 0 & 0  \\\\\n",
       " 0 & 0 & 0 & 0 & \\cdots & 0 & 1 & 0  \\\\\n",
       " 0 & 0 & 0 & 0 & \\cdots & 0 & 0 & 1  \\\\\n",
       " \\end{bmatrix}\n",
       "$$"
      ],
      "text/plain": [
       "<IPython.core.display.Latex object>"
      ]
     },
     "execution_count": 2,
     "metadata": {},
     "output_type": "execute_result"
    }
   ],
   "source": [
    "simulator = Aer.get_backend('unitary_simulator')\n",
    "result = simulator.run(qc).result()\n",
    "unitary = result.get_unitary(qc)\n",
    "unitary.draw('latex')"
   ]
  },
  {
   "cell_type": "code",
   "execution_count": 3,
   "metadata": {},
   "outputs": [
    {
     "data": {
      "text/latex": [
       "$$ |0000\\rangle$$"
      ],
      "text/plain": [
       "<IPython.core.display.Latex object>"
      ]
     },
     "execution_count": 3,
     "metadata": {},
     "output_type": "execute_result"
    }
   ],
   "source": [
    "from qiskit.quantum_info import Statevector\n",
    "\n",
    "# print(Statevector(qc).draw('latex_source'))\n",
    "Statevector(qc.reverse_bits()).draw('latex')"
   ]
  }
 ],
 "metadata": {
  "kernelspec": {
   "display_name": ".venv",
   "language": "python",
   "name": "python3"
  },
  "language_info": {
   "codemirror_mode": {
    "name": "ipython",
    "version": 3
   },
   "file_extension": ".py",
   "mimetype": "text/x-python",
   "name": "python",
   "nbconvert_exporter": "python",
   "pygments_lexer": "ipython3",
   "version": "3.12.2"
  }
 },
 "nbformat": 4,
 "nbformat_minor": 2
}
