{
 "cells": [
  {
   "cell_type": "markdown",
   "metadata": {},
   "source": [
    "Implementation of an oracle encoded with 011"
   ]
  },
  {
   "cell_type": "code",
   "execution_count": 26,
   "metadata": {},
   "outputs": [
    {
     "data": {
      "text/latex": [
       "$$\n",
       "\n",
       "\\begin{bmatrix}\n",
       "\\frac{1}{2} & \\frac{1}{2} & \\frac{1}{2} & \\frac{1}{2}  \\\\\n",
       " \\frac{1}{2} & - \\frac{1}{2} & - \\frac{1}{2} & \\frac{1}{2}  \\\\\n",
       " \\frac{1}{2} & \\frac{1}{2} & - \\frac{1}{2} & - \\frac{1}{2}  \\\\\n",
       " \\frac{1}{2} & - \\frac{1}{2} & \\frac{1}{2} & - \\frac{1}{2}  \\\\\n",
       " \\end{bmatrix}\n",
       "$$"
      ],
      "text/plain": [
       "<IPython.core.display.Latex object>"
      ]
     },
     "execution_count": 26,
     "metadata": {},
     "output_type": "execute_result"
    }
   ],
   "source": [
    "from qiskit import QuantumCircuit, QuantumRegister, ClassicalRegister, transpile\n",
    "from qiskit_aer import Aer\n",
    "from qiskit.quantum_info import Statevector\n",
    "from qiskit.visualization import array_to_latex\n",
    "from numpy import random\n",
    "\n",
    "def unitary(circuit):\n",
    "  simulator = Aer.get_backend('unitary_simulator')\n",
    "  result = simulator.run(qc).result()\n",
    "  return result.get_unitary(qc)\n",
    "\n",
    "def create_random_oracle():\n",
    "  # generate a 3-item array of random zeros and ones\n",
    "  secret_code = random.randint(2, size=1)\n",
    "\n",
    "  bv_circuit = QuantumCircuit(2, name=\"BernVaz\\nOracle\\n#{}\".format(secret_code))\n",
    "\n",
    "  # loop through each digit of our secret code and CNOT the appropriate \n",
    "  # code qubit with the control qubit\n",
    "  idx = 0\n",
    "  for idx, digit in enumerate(secret_code):\n",
    "    if digit == 1:\n",
    "      bv_circuit.cx(idx, 1)\n",
    "\n",
    "  # create our custom gate\n",
    "  bern_vaz_oracle = bv_circuit.to_instruction()\n",
    "  \n",
    "  return [secret_code, bern_vaz_oracle]\n",
    "\n",
    "q = QuantumRegister(2, 'q')\n",
    "c = ClassicalRegister(2, 'c')\n",
    "qc = QuantumCircuit(q, c)\n",
    "\n",
    "# put our input qubits into superposition\n",
    "qc.h(0)\n",
    "# qc.h(1)\n",
    "# qc.h(2)\n",
    "\n",
    "# qc.x(1) # initialize the control qubit to |1>\n",
    "qc.h(1)\n",
    "\n",
    "secret_code, oracle = create_random_oracle()\n",
    "# qc.append(oracle, [0,1])\n",
    "\n",
    "qc.cx(0,1)\n",
    "\n",
    "# # take the outputs out of superposition\n",
    "# qc.h(0)\n",
    "# qc.h(1)\n",
    "# # qc.h(2)\n",
    "# # qc.h(3)\n",
    "\n",
    "# qc.measure(0, 0)\n",
    "# qc.measure(1, 1)\n",
    "\n",
    "# print(unitary(qc).draw('latex_source'))\n",
    "unitary(qc).draw('latex')\n",
    "# qc.draw('mpl')"
   ]
  },
  {
   "cell_type": "code",
   "execution_count": null,
   "metadata": {},
   "outputs": [],
   "source": []
  },
  {
   "cell_type": "code",
   "execution_count": null,
   "metadata": {},
   "outputs": [],
   "source": []
  },
  {
   "cell_type": "code",
   "execution_count": 2,
   "metadata": {},
   "outputs": [
    {
     "data": {
      "image/png": "[encoded data removed]",
      "text/plain": [
       "<Figure size 705.35x284.278 with 1 Axes>"
      ]
     },
     "execution_count": 2,
     "metadata": {},
     "output_type": "execute_result"
    }
   ],
   "source": [
    "\n",
    "# hook the custom gate into qubits 0-1\n",
    "qc.append(oracle, [0,1])\n",
    "\n",
    "# take the outputs out of superposition\n",
    "qc.h(0)\n",
    "qc.h(1)\n",
    "# qc.h(2)\n",
    "# qc.h(3)\n",
    "\n",
    "qc.measure(0, 0)\n",
    "qc.measure(1, 1)\n",
    "# qc.measure(2, 2)\n",
    "# qc.measure(3, 3)\n",
    "\n",
    "qc.draw(output='mpl')\n"
   ]
  },
  {
   "cell_type": "code",
   "execution_count": 3,
   "metadata": {},
   "outputs": [
    {
     "name": "stdout",
     "output_type": "stream",
     "text": [
      "Secret code is [1]\n",
      "Simulation result is {'01': 246, '10': 250, '11': 272, '00': 256}\n",
      "We got the answer: 10\n"
     ]
    }
   ],
   "source": [
    "simulator = Aer.get_backend('qasm_simulator')\n",
    "result = simulator.run(transpile(qc, simulator)).result()\n",
    "\n",
    "print(\"Secret code is {}\".format(secret_code))\n",
    "\n",
    "counts = result.get_counts(qc)\n",
    "print(\"Simulation result is {}\".format(counts))\n",
    "\n",
    "first_result = [*counts][0] # get the first key of the result dict\n",
    "answer = first_result[::-1][0: 3] # reverse the order of output and get items 0-2\n",
    "\n",
    "print(\"We got the answer: \" + answer)"
   ]
  },
  {
   "cell_type": "code",
   "execution_count": 28,
   "metadata": {},
   "outputs": [
    {
     "data": {
      "image/png": "[encoded data removed]",
      "text/plain": [
       "<Figure size 269.064x200.667 with 1 Axes>"
      ]
     },
     "execution_count": 28,
     "metadata": {},
     "output_type": "execute_result"
    }
   ],
   "source": [
    "q = QuantumRegister(1, 'q')\n",
    "c = ClassicalRegister(1, 'c')\n",
    "qc = QuantumCircuit(q, c)\n",
    "\n",
    "# put our input qubits into superposition\n",
    "qc.h(0)\n",
    "qc.h(0)\n",
    "\n",
    "qc.draw(output='mpl')"
   ]
  },
  {
   "cell_type": "code",
   "execution_count": 30,
   "metadata": {},
   "outputs": [
    {
     "data": {
      "image/png": "[encoded data removed]",
      "text/plain": [
       "<Figure size 454.517x284.278 with 1 Axes>"
      ]
     },
     "execution_count": 30,
     "metadata": {},
     "output_type": "execute_result"
    }
   ],
   "source": [
    "q = QuantumRegister(2, 'q')\n",
    "c = ClassicalRegister(2, 'c')\n",
    "qc = QuantumCircuit(q, c)\n",
    "\n",
    "# put our input qubits into superposition\n",
    "qc.h(0)\n",
    "qc.x(1)\n",
    "qc.h(1)\n",
    "\n",
    "qc.cx(0,1)\n",
    "\n",
    "qc.h(0)\n",
    "qc.h(1)\n",
    "\n",
    "qc.draw(output='mpl')"
   ]
  },
  {
   "cell_type": "code",
   "execution_count": 34,
   "metadata": {},
   "outputs": [
    {
     "data": {
      "text/latex": [
       "$$\n",
       "\n",
       "\\begin{bmatrix}\n",
       "1  \\\\\n",
       " 0  \\\\\n",
       " 1  \\\\\n",
       " 0  \\\\\n",
       " \\end{bmatrix}\n",
       "$$"
      ],
      "text/plain": [
       "<IPython.core.display.Latex object>"
      ]
     },
     "execution_count": 34,
     "metadata": {},
     "output_type": "execute_result"
    }
   ],
   "source": [
    "from qiskit.visualization import array_to_latex\n",
    "from numpy import dot, kron, sqrt, tensordot, matmul, array, matrix\n",
    "\n",
    "statevector = [\n",
    "     [1],\n",
    "     [0],  \n",
    "     [1],\n",
    "     [0]\n",
    "]\n",
    "\n",
    "array_to_latex(statevector)"
   ]
  }
 ],
 "metadata": {
  "kernelspec": {
   "display_name": ".venv",
   "language": "python",
   "name": "python3"
  },
  "language_info": {
   "codemirror_mode": {
    "name": "ipython",
    "version": 3
   },
   "file_extension": ".py",
   "mimetype": "text/x-python",
   "name": "python",
   "nbconvert_exporter": "python",
   "pygments_lexer": "ipython3",
   "version": "3.12.2"
  }
 },
 "nbformat": 4,
 "nbformat_minor": 2
}
